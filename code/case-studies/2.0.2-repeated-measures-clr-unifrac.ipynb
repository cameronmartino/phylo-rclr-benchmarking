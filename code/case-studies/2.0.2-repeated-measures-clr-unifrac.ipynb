{
 "cells": [
  {
   "cell_type": "code",
   "execution_count": 8,
   "id": "367e1e39",
   "metadata": {},
   "outputs": [],
   "source": [
    "library(ape)\n",
    "library(phangorn)\n",
    "library(vegan)\n",
    "library(zCompositions)\n",
    "source(\"UniFrac.r\")\n"
   ]
  },
  {
   "cell_type": "code",
   "execution_count": 9,
   "id": "b368c487",
   "metadata": {},
   "outputs": [
    {
     "name": "stdout",
     "output_type": "stream",
     "text": [
      "[1] \"calculated proportional abundance\"\n",
      "No. corrected values:  3268 \n",
      "[1] \"calculating weights...\"\n",
      "[1] \"calculating pairwise distances...\"\n",
      "[1] \"done\"\n",
      "[1] \"calculated proportional abundance\"\n",
      "No. corrected values:  3268 \n",
      "[1] \"calculating weights...\"\n",
      "[1] \"calculating pairwise distances...\"\n",
      "[1] \"done\"\n"
     ]
    }
   ],
   "source": [
    "# read OTU table and format appropriately for input into UniFrac methods\n",
    "test.otu.tab <- read.table(\"../../results/benchmarking/repeated-measures/data/table.tsv\", header=T, sep=\"\\t\", row.names=1, comment.char=\"\", check.names=FALSE)\n",
    "test.otu.tab <- t(as.matrix(test.otu.tab))\n",
    "# read and root tree (rooted tree is required)\n",
    "test.tree <- read.tree(\"../../results/benchmarking/repeated-measures/data/tree.nwk\")\n",
    "test.tree <- midpoint(test.tree)\n",
    "# calculate distance matrix\n",
    "unifrac.information <- getDistanceMatrix(test.otu.tab,test.tree,method=\"information\",verbose=TRUE)\n",
    "unifrac.ratio <- getDistanceMatrix(test.otu.tab,test.tree,method=\"ratio\",verbose=TRUE)\n"
   ]
  },
  {
   "cell_type": "code",
   "execution_count": 13,
   "id": "b0d0c91b",
   "metadata": {},
   "outputs": [],
   "source": [
    "write.csv(unifrac.information, \"../../results/benchmarking/repeated-measures/metrics/information-unifrac.csv\") \n",
    "write.csv(unifrac.ratio, \"../../results/benchmarking/repeated-measures/metrics/ratio-unifrac.csv\") \n"
   ]
  },
  {
   "cell_type": "code",
   "execution_count": null,
   "id": "458df1a3",
   "metadata": {},
   "outputs": [],
   "source": []
  }
 ],
 "metadata": {
  "kernelspec": {
   "display_name": "R",
   "language": "R",
   "name": "ir"
  },
  "language_info": {
   "codemirror_mode": "r",
   "file_extension": ".r",
   "mimetype": "text/x-r-source",
   "name": "R",
   "pygments_lexer": "r",
   "version": "4.1.2"
  }
 },
 "nbformat": 4,
 "nbformat_minor": 5
}
